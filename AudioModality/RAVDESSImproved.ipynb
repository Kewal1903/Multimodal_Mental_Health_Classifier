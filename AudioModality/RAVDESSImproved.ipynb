{
  "nbformat": 4,
  "nbformat_minor": 0,
  "metadata": {
    "colab": {
      "provenance": [],
      "gpuType": "T4"
    },
    "kernelspec": {
      "name": "python3",
      "display_name": "Python 3"
    },
    "language_info": {
      "name": "python"
    },
    "accelerator": "GPU"
  },
  "cells": [
    {
      "cell_type": "markdown",
      "source": [
        "# Required Libraries & Dependencies"
      ],
      "metadata": {
        "id": "gK-hd6WUBGyF"
      }
    },
    {
      "cell_type": "code",
      "source": [
        "#Necessary Libaries\n",
        "import pandas as pd\n",
        "import numpy as np\n",
        "import librosa\n",
        "import matplotlib.pyplot as plt\n",
        "import os\n",
        "import scipy.signal\n",
        "import torch\n",
        "import torch.nn as nn\n",
        "import torch.nn.functional as F\n",
        "from torch.utils.data import TensorDataset, DataLoader\n",
        "from sklearn.model_selection import train_test_split\n",
        "from sklearn.preprocessing import LabelEncoder\n",
        "from sklearn.metrics import classification_report\n",
        "import warnings\n",
        "warnings.filterwarnings('ignore')"
      ],
      "metadata": {
        "id": "UcNEX5m-oMxe"
      },
      "execution_count": null,
      "outputs": []
    },
    {
      "cell_type": "markdown",
      "source": [
        "# Cloning Dataset from GitHub"
      ],
      "metadata": {
        "id": "s_aXrj90BLdX"
      }
    },
    {
      "cell_type": "code",
      "source": [
        "#Getting Data From GitHub\n",
        "!git clone https://github.com/SiddharthSubramanian1729/EmotionRAVDESS"
      ],
      "metadata": {
        "colab": {
          "base_uri": "https://localhost:8080/"
        },
        "id": "OG5e48p1nlsa",
        "outputId": "7a356d0d-37d8-46bf-fc33-df91601bcc98"
      },
      "execution_count": null,
      "outputs": [
        {
          "output_type": "stream",
          "name": "stdout",
          "text": [
            "Cloning into 'EmotionRAVDESS'...\n",
            "remote: Enumerating objects: 1466, done.\u001b[K\n",
            "remote: Total 1466 (delta 0), reused 0 (delta 0), pack-reused 1466 (from 1)\u001b[K\n",
            "Receiving objects: 100% (1466/1466), 213.82 MiB | 17.90 MiB/s, done.\n",
            "Resolving deltas: 100% (239/239), done.\n",
            "Updating files: 100% (2880/2880), done.\n"
          ]
        }
      ]
    },
    {
      "cell_type": "markdown",
      "source": [
        "# Setting up of the Emotion Map - Done as per Dataset description"
      ],
      "metadata": {
        "id": "xlIpGluIBQhg"
      }
    },
    {
      "cell_type": "code",
      "source": [
        "#Emotion Map\n",
        "emotion_map = {\n",
        "    '01': 'neutral', '02': 'calm', '03': 'happy', '04': 'sad',\n",
        "    '05': 'angry', '06': 'fearful', '07': 'disgust', '08': 'surprised'\n",
        "}\n"
      ],
      "metadata": {
        "id": "w3X3uE9coS2i"
      },
      "execution_count": null,
      "outputs": []
    },
    {
      "cell_type": "markdown",
      "source": [
        "# Feature Extraction As per Dataset"
      ],
      "metadata": {
        "id": "Zyhnu8YgBZvo"
      }
    },
    {
      "cell_type": "code",
      "source": [
        "base_dir = \"/content/EmotionRAVDESS\"\n",
        "data = []\n",
        "for actor_folder in sorted(os.listdir(base_dir)):\n",
        "    actor_path = os.path.join(base_dir, actor_folder)\n",
        "    if not os.path.isdir(actor_path):\n",
        "      continue\n",
        "    for file in os.listdir(actor_path):\n",
        "        if not file.endswith('.wav'): continue\n",
        "        parts = file.split('-')\n",
        "        emotion = emotion_map[parts[2]]\n",
        "        intensity = 'strong' if parts[3] == '02' else 'normal'\n",
        "        actor_id = int(parts[-1].split('.')[0])\n",
        "        gender = 'male' if actor_id % 2 == 1 else 'female'\n",
        "        data.append({\n",
        "            'file_path': os.path.join(actor_path, file),\n",
        "            'emotion': emotion,\n",
        "            'intensity': intensity,\n",
        "            'actor': actor_id,\n",
        "            'gender': gender\n",
        "        })\n",
        "\n",
        "df = pd.DataFrame(data)"
      ],
      "metadata": {
        "id": "vIb-8Tkponvz"
      },
      "execution_count": null,
      "outputs": []
    },
    {
      "cell_type": "markdown",
      "source": [
        "# Audio Preprocessing\n",
        "\n",
        "## Includes:\n",
        "\n",
        "* `load_audio` - This ensures all audio inputs are clean, mono, and amplitude-normalized for feature extraction\n",
        "* `highpass_filter` - This helps isolate speech-relevant frequencies and improves feature clarity with a high-pass filter cutoff at 100 Hz\n",
        "* `pad_or_truncate` - This guarantees uniform input shape for CNNs, RNNs, or spectrogram generation. - Pads with zeros if the audio is shorter than target_len (e.g., 3 seconds at 16kHz). Truncates if longer, ensuring fixed-size input for models\n",
        "\n",
        "\n"
      ],
      "metadata": {
        "id": "ir7HsCGQBfqp"
      }
    },
    {
      "cell_type": "code",
      "source": [
        "def load_audio(path, sr=16000):\n",
        "    \"\"\"Load and preprocess audio\"\"\"\n",
        "    y, _ = librosa.load(path, sr=sr, mono=True)\n",
        "    y_trimmed, _ = librosa.effects.trim(y, top_db=20)\n",
        "    y = y_trimmed / (np.max(np.abs(y_trimmed)) + 1e-8)\n",
        "    return y\n",
        "\n",
        "def highpass_filter(y, sr, cutoff=100):\n",
        "    \"\"\"Remove low-frequency noise\"\"\"\n",
        "    sos = scipy.signal.butter(10, cutoff, 'hp', fs=sr, output='sos')\n",
        "    return scipy.signal.sosfilt(sos, y)\n",
        "\n",
        "def pad_or_truncate(y, target_len=48000):\n",
        "    \"\"\"Fix audio length\"\"\"\n",
        "    if len(y) < target_len:\n",
        "        return np.pad(y, (0, target_len - len(y)))\n",
        "    else:\n",
        "        return y[:target_len]"
      ],
      "metadata": {
        "id": "8sC3Qh57opJs"
      },
      "execution_count": null,
      "outputs": []
    },
    {
      "cell_type": "markdown",
      "source": [
        "# Audio Feature Extraction Pipeline\n",
        "\n",
        "* This pipeline loads and cleans raw audio files using silence trimming, high-pass filtering, and fixed-length padding.  \n",
        "* It extracts temporal features including `MFCCs`, `Mel spectrograms`, `ZCR`, `RMSE`, and `spectral descriptors`.  \n",
        "* All feature arrays are padded to a uniform time dimension for batch compatibility.  \n",
        "* Emotion labels are encoded and the dataset is split using stratified sampling.  \n",
        "* Simple data augmentation (noise injection and scaling) is applied to boost training diversity.  \n",
        "* Final outputs are ready for input into deep learning models like CNN-GRU with attention."
      ],
      "metadata": {
        "id": "nnfhkTlYDVIz"
      }
    },
    {
      "cell_type": "code",
      "source": [
        "def extract_features_temporal(y, sr):\n",
        "    \"\"\"Extract features preserving temporal structure\"\"\"\n",
        "    # MFCC and deltas\n",
        "    mfcc = librosa.feature.mfcc(y=y, sr=sr, n_mfcc=40)\n",
        "    mfcc_delta = librosa.feature.delta(mfcc)\n",
        "    mfcc_delta2 = librosa.feature.delta(mfcc, order=2)\n",
        "\n",
        "    # Spectral features\n",
        "    mel_spec = librosa.feature.melspectrogram(y=y, sr=sr, n_mels=64)\n",
        "    mel_db = librosa.power_to_db(mel_spec, ref=np.max)\n",
        "\n",
        "    zcr = librosa.feature.zero_crossing_rate(y)\n",
        "    rmse = librosa.feature.rms(y=y)\n",
        "    spectral_centroid = librosa.feature.spectral_centroid(y=y, sr=sr)\n",
        "    spectral_rolloff = librosa.feature.spectral_rolloff(y=y, sr=sr)\n",
        "\n",
        "    # Stack all features\n",
        "    features = np.vstack([\n",
        "        mfcc,\n",
        "        mfcc_delta,\n",
        "        mfcc_delta2,\n",
        "        mel_db,\n",
        "        zcr,\n",
        "        rmse,\n",
        "        spectral_centroid,\n",
        "        spectral_rolloff\n",
        "    ])\n",
        "\n",
        "    return features\n",
        "\n",
        "# PROCESS ALL AUDIO FILES\n",
        "\n",
        "\n",
        "print(\"\\n\" + \"=\"*50)\n",
        "print(\"EXTRACTING FEATURES FROM AUDIO FILES\")\n",
        "print(\"=\"*50)\n",
        "\n",
        "X_temporal = []\n",
        "y_labels = []\n",
        "\n",
        "for i, row in df.iterrows():\n",
        "    try:\n",
        "        y_audio = load_audio(row['file_path'], sr=16000)\n",
        "        y_audio = highpass_filter(y_audio, sr=16000)\n",
        "        y_audio = pad_or_truncate(y_audio, target_len=48000)\n",
        "\n",
        "        features = extract_features_temporal(y_audio, sr=16000)\n",
        "        X_temporal.append(features)\n",
        "        y_labels.append(row['emotion'])\n",
        "\n",
        "        if (i + 1) % 100 == 0:\n",
        "            print(f\"Processed {i + 1}/{len(df)} files\")\n",
        "    except Exception as e:\n",
        "        print(f\"Error processing {row['file_path']}: {e}\")\n",
        "\n",
        "print(f\"Successfully processed {len(X_temporal)} files\")\n",
        "\n",
        "\n",
        "# NORMALIZE FEATURE DIMENSIONS\n",
        "\n",
        "# Pad/truncate time dimension to fixed length\n",
        "max_time = max([x.shape[1] for x in X_temporal])\n",
        "print(f\"\\nMax time frames: {max_time}\")\n",
        "print(f\"Feature dimensions: {X_temporal[0].shape[0]}\")\n",
        "\n",
        "X_padded = []\n",
        "for features in X_temporal:\n",
        "    if features.shape[1] < max_time:\n",
        "        pad_width = max_time - features.shape[1]\n",
        "        features = np.pad(features, ((0, 0), (0, pad_width)), mode='constant')\n",
        "    else:\n",
        "        features = features[:, :max_time]\n",
        "    X_padded.append(features)\n",
        "\n",
        "X_padded = np.array(X_padded)\n",
        "print(f\"Final feature shape: {X_padded.shape}\")\n",
        "\n",
        "\n",
        "# ENCODE LABELS AND SPLIT DATA\n",
        "\n",
        "\n",
        "le = LabelEncoder()\n",
        "y_encoded = le.fit_transform(y_labels)\n",
        "print(f\"\\nClasses: {le.classes_}\")\n",
        "\n",
        "X_train, X_test, y_train, y_test = train_test_split(\n",
        "    X_padded, y_encoded, test_size=0.2, stratify=y_encoded, random_state=42\n",
        ")\n",
        "\n",
        "print(f\"Train samples: {len(X_train)}, Test samples: {len(X_test)}\")\n",
        "\n",
        "\n",
        "# DATA AUGMENTATION (TRAINING ONLY)\n",
        "\n",
        "\n",
        "print(\"\\n\" + \"=\"*50)\n",
        "print(\"APPLYING DATA AUGMENTATION\")\n",
        "print(\"=\"*50)\n",
        "\n",
        "X_train_aug = []\n",
        "y_train_aug = []\n",
        "\n",
        "for x, y_label in zip(X_train, y_train):\n",
        "    # Original\n",
        "    X_train_aug.append(x)\n",
        "    y_train_aug.append(y_label)\n",
        "\n",
        "    # Augmented: add small noise\n",
        "    noise = np.random.randn(*x.shape) * 0.01\n",
        "    X_train_aug.append(x + noise)\n",
        "    y_train_aug.append(y_label)\n",
        "\n",
        "    # Augmented: scale features slightly\n",
        "    scale = np.random.uniform(0.95, 1.05)\n",
        "    X_train_aug.append(x * scale)\n",
        "    y_train_aug.append(y_label)\n",
        "\n",
        "X_train = np.array(X_train_aug)\n",
        "y_train = np.array(y_train_aug)\n",
        "\n",
        "print(f\"Augmented training samples: {len(X_train)}\")"
      ],
      "metadata": {
        "colab": {
          "base_uri": "https://localhost:8080/"
        },
        "id": "2AwUECG-o4WF",
        "outputId": "671409c1-e1a4-44dd-d634-78cfd425c7ac"
      },
      "execution_count": null,
      "outputs": [
        {
          "output_type": "stream",
          "name": "stdout",
          "text": [
            "\n",
            "==================================================\n",
            "EXTRACTING FEATURES FROM AUDIO FILES\n",
            "==================================================\n",
            "Processed 100/1440 files\n",
            "Processed 200/1440 files\n",
            "Processed 300/1440 files\n",
            "Processed 400/1440 files\n",
            "Processed 500/1440 files\n",
            "Processed 600/1440 files\n",
            "Processed 700/1440 files\n",
            "Processed 800/1440 files\n",
            "Processed 900/1440 files\n",
            "Processed 1000/1440 files\n",
            "Processed 1100/1440 files\n",
            "Processed 1200/1440 files\n",
            "Processed 1300/1440 files\n",
            "Processed 1400/1440 files\n",
            "Successfully processed 1440 files\n",
            "\n",
            "Max time frames: 94\n",
            "Feature dimensions: 188\n",
            "Final feature shape: (1440, 188, 94)\n",
            "\n",
            "Classes: ['angry' 'calm' 'disgust' 'fearful' 'happy' 'neutral' 'sad' 'surprised']\n",
            "Train samples: 1152, Test samples: 288\n",
            "\n",
            "==================================================\n",
            "APPLYING DATA AUGMENTATION\n",
            "==================================================\n",
            "Augmented training samples: 3456\n"
          ]
        }
      ]
    },
    {
      "cell_type": "markdown",
      "source": [
        "# PyTorch Dataset and DataLoader Setup\n",
        "\n",
        "* This section converts preprocessed NumPy arrays into PyTorch tensors for training and evaluation.  \n",
        "* It wraps the data into `TensorDataset` objects and creates `DataLoaders` for efficient batching.  \n",
        "* Training data is shuffled to improve generalization, while test data is loaded sequentially. Each input tensor is unsqueezed to add a channel dimension for CNN compatibility.  \n",
        "* The final print statement confirms the shape of a sample training batch."
      ],
      "metadata": {
        "id": "Yg94V3M7D7bz"
      }
    },
    {
      "cell_type": "code",
      "source": [
        "\n",
        "# CREATE PYTORCH DATASETS\n",
        "\n",
        "\n",
        "X_train_t = torch.tensor(X_train, dtype=torch.float32).unsqueeze(1)\n",
        "y_train_t = torch.tensor(y_train, dtype=torch.long)\n",
        "X_test_t = torch.tensor(X_test, dtype=torch.float32).unsqueeze(1)\n",
        "y_test_t = torch.tensor(y_test, dtype=torch.long)\n",
        "\n",
        "train_dataset = TensorDataset(X_train_t, y_train_t)\n",
        "test_dataset = TensorDataset(X_test_t, y_test_t)\n",
        "\n",
        "train_loader = DataLoader(train_dataset, batch_size=32, shuffle=True)\n",
        "test_loader = DataLoader(test_dataset, batch_size=32, shuffle=False)\n",
        "\n",
        "print(f\"Batch shape: {next(iter(train_loader))[0].shape}\")\n"
      ],
      "metadata": {
        "colab": {
          "base_uri": "https://localhost:8080/"
        },
        "id": "Zls5aa-QpCSy",
        "outputId": "023d9603-5ff5-4f51-baf4-ea7cff5ce898"
      },
      "execution_count": null,
      "outputs": [
        {
          "output_type": "stream",
          "name": "stdout",
          "text": [
            "Batch shape: torch.Size([32, 1, 188, 94])\n"
          ]
        }
      ]
    },
    {
      "cell_type": "markdown",
      "source": [
        "# Model Architecture Definition\n",
        "\n",
        "### CNN-GRU-Attention Model Architecture\n",
        "\n",
        "- Uses a 3-layer CNN block to extract spatial features from time-frequency inputs (e.g., Mel spectrograms).\n",
        "- Applies batch normalization, ReLU activation, max pooling, and dropout for regularization.\n",
        "- Reshapes CNN output to match GRU input format by averaging across frequency dimensions.\n",
        "- Employs a 2-layer bidirectional GRU to capture temporal dependencies in emotional speech.\n",
        "- Implements an attention mechanism to weight time steps based on emotional salience.\n",
        "- Final classification is done via a 3-layer fully connected network with dropout and ReLU."
      ],
      "metadata": {
        "id": "rX7CyNsBEJu1"
      }
    },
    {
      "cell_type": "code",
      "source": [
        "\n",
        "# DEFINE MODEL ARCHITECTURE\n",
        "\n",
        "class CNN_GRU_Attention(nn.Module):\n",
        "    def __init__(self, num_classes=8, input_features=198):\n",
        "        super(CNN_GRU_Attention, self).__init__()\n",
        "\n",
        "        # CNN feature extractor\n",
        "        self.cnn = nn.Sequential(\n",
        "            nn.Conv2d(1, 64, kernel_size=(3,3), padding=1),\n",
        "            nn.BatchNorm2d(64),\n",
        "            nn.ReLU(),\n",
        "            nn.MaxPool2d((2,2)),\n",
        "            nn.Dropout(0.2),\n",
        "\n",
        "            nn.Conv2d(64, 128, kernel_size=(3,3), padding=1),\n",
        "            nn.BatchNorm2d(128),\n",
        "            nn.ReLU(),\n",
        "            nn.MaxPool2d((2,2)),\n",
        "            nn.Dropout(0.2),\n",
        "\n",
        "            nn.Conv2d(128, 256, kernel_size=(3,3), padding=1),\n",
        "            nn.BatchNorm2d(256),\n",
        "            nn.ReLU(),\n",
        "            nn.MaxPool2d((2,2)),\n",
        "            nn.Dropout(0.2)\n",
        "        )\n",
        "\n",
        "        # Calculate the flattened dimension after CNN\n",
        "        # We'll compute this dynamically in forward pass\n",
        "        self.gru_input_size = None\n",
        "\n",
        "        # GRU for temporal modeling\n",
        "        self.gru = nn.GRU(\n",
        "            input_size=256,  # Will be set correctly after first forward pass\n",
        "            hidden_size=128,\n",
        "            num_layers=2,\n",
        "            batch_first=True,\n",
        "            bidirectional=True,\n",
        "            dropout=0.3\n",
        "        )\n",
        "\n",
        "        # Attention\n",
        "        self.attn = nn.Linear(256, 1)\n",
        "\n",
        "        # Classifier\n",
        "        self.fc = nn.Sequential(\n",
        "            nn.Linear(256, 128),\n",
        "            nn.ReLU(),\n",
        "            nn.Dropout(0.5),\n",
        "            nn.Linear(128, 64),\n",
        "            nn.ReLU(),\n",
        "            nn.Dropout(0.3),\n",
        "            nn.Linear(64, num_classes)\n",
        "        )\n",
        "\n",
        "    def forward(self, x):\n",
        "        # x shape: (batch, 1, features, time)\n",
        "        batch_size = x.size(0)\n",
        "\n",
        "        # CNN processing\n",
        "        x = self.cnn(x)  # (batch, 256, features', time')\n",
        "\n",
        "        # Reshape for GRU: (batch, time, features)\n",
        "        # Flatten the frequency dimension but keep time\n",
        "        x = x.permute(0, 3, 1, 2)  # (batch, time', channels, features')\n",
        "\n",
        "        # Average pool across frequency dimension to reduce to single feature per channel\n",
        "        x = x.mean(dim=3)  # (batch, time', channels)\n",
        "\n",
        "        # Now x is (batch, time, 256) which is what GRU expects\n",
        "        gru_out, _ = self.gru(x)  # (batch, time, 256)\n",
        "\n",
        "        # Attention mechanism\n",
        "        attn_weights = F.softmax(self.attn(gru_out), dim=1)  # (batch, time, 1)\n",
        "        context = torch.sum(attn_weights * gru_out, dim=1)  # (batch, 256)\n",
        "\n",
        "        # Classification\n",
        "        out = self.fc(context)\n",
        "        return out\n",
        "\n"
      ],
      "metadata": {
        "id": "yromWG6vpmyK"
      },
      "execution_count": null,
      "outputs": []
    },
    {
      "cell_type": "code",
      "source": [
        "# ============================================\n",
        "# 10. TRAINING SETUP\n",
        "# ============================================\n",
        "\n",
        "print(\"\\n\" + \"=\"*50)\n",
        "print(\"TRAINING MODEL\")\n",
        "print(\"=\"*50)\n",
        "\n",
        "device = torch.device(\"cuda\" if torch.cuda.is_available() else \"cpu\")\n",
        "print(f\"Using device: {device}\")\n",
        "\n",
        "model = CNN_GRU_Attention(num_classes=len(le.classes_)).to(device)\n",
        "print(f\"Model parameters: {sum(p.numel() for p in model.parameters()):,}\")\n",
        "\n",
        "optimizer = torch.optim.Adam(model.parameters(), lr=5e-4, weight_decay=1e-5)\n",
        "scheduler = torch.optim.lr_scheduler.ReduceLROnPlateau(\n",
        "    optimizer, mode='min', factor=0.5, patience=5\n",
        ")\n",
        "criterion = nn.CrossEntropyLoss()\n",
        "\n",
        "# ============================================\n",
        "# 11. TRAINING LOOP\n",
        "# ============================================\n",
        "\n",
        "num_epochs = 100\n",
        "best_val_acc = 0\n",
        "patience_counter = 0\n",
        "early_stop_patience = 15\n",
        "\n",
        "for epoch in range(num_epochs):\n",
        "    # Training phase\n",
        "    model.train()\n",
        "    total_loss = 0\n",
        "    train_correct = 0\n",
        "    train_total = 0\n",
        "\n",
        "    for X_batch, y_batch in train_loader:\n",
        "        X_batch, y_batch = X_batch.to(device), y_batch.to(device)\n",
        "\n",
        "        optimizer.zero_grad()\n",
        "        preds = model(X_batch)\n",
        "        loss = criterion(preds, y_batch)\n",
        "        loss.backward()\n",
        "        optimizer.step()\n",
        "\n",
        "        total_loss += loss.item()\n",
        "        train_correct += (preds.argmax(1) == y_batch).sum().item()\n",
        "        train_total += y_batch.size(0)\n",
        "\n",
        "    # Validation phase\n",
        "    model.eval()\n",
        "    val_correct = 0\n",
        "    val_total = 0\n",
        "\n",
        "    with torch.no_grad():\n",
        "        for X_batch, y_batch in test_loader:\n",
        "            X_batch, y_batch = X_batch.to(device), y_batch.to(device)\n",
        "            preds = model(X_batch)\n",
        "            val_correct += (preds.argmax(1) == y_batch).sum().item()\n",
        "            val_total += y_batch.size(0)\n",
        "\n",
        "    train_acc = train_correct / train_total\n",
        "    val_acc = val_correct / val_total\n",
        "    avg_loss = total_loss / len(train_loader)\n",
        "\n",
        "    scheduler.step(avg_loss)\n",
        "\n",
        "    print(f\"Epoch {epoch+1:3d}/{num_epochs} | \"\n",
        "          f\"Loss: {avg_loss:.4f} | \"\n",
        "          f\"Train Acc: {train_acc:.4f} | \"\n",
        "          f\"Val Acc: {val_acc:.4f}\")\n",
        "\n",
        "    # Early stopping\n",
        "    if val_acc > best_val_acc:\n",
        "        best_val_acc = val_acc\n",
        "        patience_counter = 0\n",
        "        torch.save(model.state_dict(), 'best_model.pt')\n",
        "        print(f\"  → New best model saved! (Val Acc: {val_acc:.4f})\")\n",
        "    else:\n",
        "        patience_counter += 1\n",
        "        if patience_counter >= early_stop_patience:\n",
        "            print(f\"\\nEarly stopping triggered after {epoch+1} epochs\")\n",
        "            break\n"
      ],
      "metadata": {
        "colab": {
          "base_uri": "https://localhost:8080/"
        },
        "id": "1RGxGdRIpr1x",
        "outputId": "bfbd9762-d3a7-4b78-abfe-baca9b39c3dc"
      },
      "execution_count": null,
      "outputs": [
        {
          "output_type": "stream",
          "name": "stdout",
          "text": [
            "\n",
            "==================================================\n",
            "TRAINING MODEL\n",
            "==================================================\n",
            "Using device: cuda\n",
            "Model parameters: 1,005,385\n",
            "Epoch   1/100 | Loss: 2.0656 | Train Acc: 0.1386 | Val Acc: 0.1944\n",
            "  → New best model saved! (Val Acc: 0.1944)\n",
            "Epoch   2/100 | Loss: 1.9978 | Train Acc: 0.1843 | Val Acc: 0.1944\n",
            "Epoch   3/100 | Loss: 1.9692 | Train Acc: 0.1973 | Val Acc: 0.2153\n",
            "  → New best model saved! (Val Acc: 0.2153)\n",
            "Epoch   4/100 | Loss: 1.9489 | Train Acc: 0.1988 | Val Acc: 0.1667\n",
            "Epoch   5/100 | Loss: 1.9159 | Train Acc: 0.2121 | Val Acc: 0.2118\n",
            "Epoch   6/100 | Loss: 1.8819 | Train Acc: 0.2338 | Val Acc: 0.2326\n",
            "  → New best model saved! (Val Acc: 0.2326)\n",
            "Epoch   7/100 | Loss: 1.8632 | Train Acc: 0.2445 | Val Acc: 0.2812\n",
            "  → New best model saved! (Val Acc: 0.2812)\n",
            "Epoch   8/100 | Loss: 1.7838 | Train Acc: 0.2954 | Val Acc: 0.3576\n",
            "  → New best model saved! (Val Acc: 0.3576)\n",
            "Epoch   9/100 | Loss: 1.6510 | Train Acc: 0.3715 | Val Acc: 0.4201\n",
            "  → New best model saved! (Val Acc: 0.4201)\n",
            "Epoch  10/100 | Loss: 1.5500 | Train Acc: 0.4126 | Val Acc: 0.3056\n",
            "Epoch  11/100 | Loss: 1.4692 | Train Acc: 0.4329 | Val Acc: 0.4201\n",
            "Epoch  12/100 | Loss: 1.4284 | Train Acc: 0.4476 | Val Acc: 0.3785\n",
            "Epoch  13/100 | Loss: 1.3894 | Train Acc: 0.4719 | Val Acc: 0.3924\n",
            "Epoch  14/100 | Loss: 1.3226 | Train Acc: 0.4835 | Val Acc: 0.3958\n",
            "Epoch  15/100 | Loss: 1.2975 | Train Acc: 0.4977 | Val Acc: 0.4375\n",
            "  → New best model saved! (Val Acc: 0.4375)\n",
            "Epoch  16/100 | Loss: 1.2516 | Train Acc: 0.5162 | Val Acc: 0.4826\n",
            "  → New best model saved! (Val Acc: 0.4826)\n",
            "Epoch  17/100 | Loss: 1.2132 | Train Acc: 0.5347 | Val Acc: 0.4792\n",
            "Epoch  18/100 | Loss: 1.1583 | Train Acc: 0.5466 | Val Acc: 0.4028\n",
            "Epoch  19/100 | Loss: 1.1397 | Train Acc: 0.5558 | Val Acc: 0.3715\n",
            "Epoch  20/100 | Loss: 1.1020 | Train Acc: 0.5637 | Val Acc: 0.4375\n",
            "Epoch  21/100 | Loss: 1.0395 | Train Acc: 0.5900 | Val Acc: 0.4444\n",
            "Epoch  22/100 | Loss: 1.0091 | Train Acc: 0.6053 | Val Acc: 0.4375\n",
            "Epoch  23/100 | Loss: 0.9792 | Train Acc: 0.6204 | Val Acc: 0.4479\n",
            "Epoch  24/100 | Loss: 0.9608 | Train Acc: 0.6155 | Val Acc: 0.4931\n",
            "  → New best model saved! (Val Acc: 0.4931)\n",
            "Epoch  25/100 | Loss: 0.9148 | Train Acc: 0.6479 | Val Acc: 0.5174\n",
            "  → New best model saved! (Val Acc: 0.5174)\n",
            "Epoch  26/100 | Loss: 0.8547 | Train Acc: 0.6632 | Val Acc: 0.4896\n",
            "Epoch  27/100 | Loss: 0.8814 | Train Acc: 0.6571 | Val Acc: 0.5174\n",
            "Epoch  28/100 | Loss: 0.8054 | Train Acc: 0.6858 | Val Acc: 0.5035\n",
            "Epoch  29/100 | Loss: 0.7940 | Train Acc: 0.6855 | Val Acc: 0.4965\n",
            "Epoch  30/100 | Loss: 0.7598 | Train Acc: 0.7104 | Val Acc: 0.5069\n",
            "Epoch  31/100 | Loss: 0.7453 | Train Acc: 0.7098 | Val Acc: 0.5174\n",
            "Epoch  32/100 | Loss: 0.7194 | Train Acc: 0.7124 | Val Acc: 0.4965\n",
            "Epoch  33/100 | Loss: 0.6635 | Train Acc: 0.7517 | Val Acc: 0.5347\n",
            "  → New best model saved! (Val Acc: 0.5347)\n",
            "Epoch  34/100 | Loss: 0.6381 | Train Acc: 0.7543 | Val Acc: 0.5104\n",
            "Epoch  35/100 | Loss: 0.6296 | Train Acc: 0.7593 | Val Acc: 0.5312\n",
            "Epoch  36/100 | Loss: 0.6113 | Train Acc: 0.7749 | Val Acc: 0.5521\n",
            "  → New best model saved! (Val Acc: 0.5521)\n",
            "Epoch  37/100 | Loss: 0.6062 | Train Acc: 0.7795 | Val Acc: 0.5451\n",
            "Epoch  38/100 | Loss: 0.5511 | Train Acc: 0.7873 | Val Acc: 0.4688\n",
            "Epoch  39/100 | Loss: 0.5403 | Train Acc: 0.7928 | Val Acc: 0.4340\n",
            "Epoch  40/100 | Loss: 0.4906 | Train Acc: 0.8157 | Val Acc: 0.5312\n",
            "Epoch  41/100 | Loss: 0.4913 | Train Acc: 0.8299 | Val Acc: 0.5208\n",
            "Epoch  42/100 | Loss: 0.4468 | Train Acc: 0.8377 | Val Acc: 0.5000\n",
            "Epoch  43/100 | Loss: 0.4170 | Train Acc: 0.8519 | Val Acc: 0.4306\n",
            "Epoch  44/100 | Loss: 0.4034 | Train Acc: 0.8519 | Val Acc: 0.5660\n",
            "  → New best model saved! (Val Acc: 0.5660)\n",
            "Epoch  45/100 | Loss: 0.3787 | Train Acc: 0.8669 | Val Acc: 0.5556\n",
            "Epoch  46/100 | Loss: 0.3701 | Train Acc: 0.8672 | Val Acc: 0.5347\n",
            "Epoch  47/100 | Loss: 0.4165 | Train Acc: 0.8524 | Val Acc: 0.5451\n",
            "Epoch  48/100 | Loss: 0.3555 | Train Acc: 0.8695 | Val Acc: 0.5590\n",
            "Epoch  49/100 | Loss: 0.3161 | Train Acc: 0.8860 | Val Acc: 0.5382\n",
            "Epoch  50/100 | Loss: 0.2720 | Train Acc: 0.9106 | Val Acc: 0.5451\n",
            "Epoch  51/100 | Loss: 0.2559 | Train Acc: 0.9132 | Val Acc: 0.4826\n",
            "Epoch  52/100 | Loss: 0.2782 | Train Acc: 0.9086 | Val Acc: 0.5694\n",
            "  → New best model saved! (Val Acc: 0.5694)\n",
            "Epoch  53/100 | Loss: 0.2476 | Train Acc: 0.9167 | Val Acc: 0.5660\n",
            "Epoch  54/100 | Loss: 0.2347 | Train Acc: 0.9210 | Val Acc: 0.5556\n",
            "Epoch  55/100 | Loss: 0.2177 | Train Acc: 0.9274 | Val Acc: 0.5382\n",
            "Epoch  56/100 | Loss: 0.2613 | Train Acc: 0.9146 | Val Acc: 0.5417\n",
            "Epoch  57/100 | Loss: 0.1890 | Train Acc: 0.9384 | Val Acc: 0.5278\n",
            "Epoch  58/100 | Loss: 0.1942 | Train Acc: 0.9372 | Val Acc: 0.5590\n",
            "Epoch  59/100 | Loss: 0.1817 | Train Acc: 0.9407 | Val Acc: 0.5694\n",
            "Epoch  60/100 | Loss: 0.1963 | Train Acc: 0.9332 | Val Acc: 0.5833\n",
            "  → New best model saved! (Val Acc: 0.5833)\n",
            "Epoch  61/100 | Loss: 0.1820 | Train Acc: 0.9436 | Val Acc: 0.6111\n",
            "  → New best model saved! (Val Acc: 0.6111)\n",
            "Epoch  62/100 | Loss: 0.1564 | Train Acc: 0.9537 | Val Acc: 0.5833\n",
            "Epoch  63/100 | Loss: 0.1364 | Train Acc: 0.9557 | Val Acc: 0.5625\n",
            "Epoch  64/100 | Loss: 0.1583 | Train Acc: 0.9546 | Val Acc: 0.5764\n",
            "Epoch  65/100 | Loss: 0.1814 | Train Acc: 0.9404 | Val Acc: 0.5486\n",
            "Epoch  66/100 | Loss: 0.1158 | Train Acc: 0.9653 | Val Acc: 0.5938\n",
            "Epoch  67/100 | Loss: 0.1134 | Train Acc: 0.9656 | Val Acc: 0.5486\n",
            "Epoch  68/100 | Loss: 0.1255 | Train Acc: 0.9604 | Val Acc: 0.5799\n",
            "Epoch  69/100 | Loss: 0.1327 | Train Acc: 0.9618 | Val Acc: 0.5243\n",
            "Epoch  70/100 | Loss: 0.1353 | Train Acc: 0.9566 | Val Acc: 0.6076\n",
            "Epoch  71/100 | Loss: 0.1558 | Train Acc: 0.9528 | Val Acc: 0.5833\n",
            "Epoch  72/100 | Loss: 0.1264 | Train Acc: 0.9604 | Val Acc: 0.5625\n",
            "Epoch  73/100 | Loss: 0.1286 | Train Acc: 0.9621 | Val Acc: 0.5660\n",
            "Epoch  74/100 | Loss: 0.0440 | Train Acc: 0.9893 | Val Acc: 0.5486\n",
            "Epoch  75/100 | Loss: 0.0497 | Train Acc: 0.9878 | Val Acc: 0.5799\n",
            "Epoch  76/100 | Loss: 0.0306 | Train Acc: 0.9910 | Val Acc: 0.5694\n",
            "\n",
            "Early stopping triggered after 76 epochs\n"
          ]
        }
      ]
    },
    {
      "cell_type": "markdown",
      "source": [
        "# Final Evaluation on the test set"
      ],
      "metadata": {
        "id": "gmXR_ScXElS1"
      }
    },
    {
      "cell_type": "code",
      "source": [
        "# FINAL EVALUATION\n",
        "\n",
        "\n",
        "print(\"\\n\" + \"=\"*50)\n",
        "print(\"FINAL EVALUATION ON TEST SET\")\n",
        "print(\"=\"*50)\n",
        "\n",
        "model.load_state_dict(torch.load('best_model.pt'))\n",
        "model.eval()\n",
        "\n",
        "y_true, y_pred = [], []\n",
        "\n",
        "with torch.no_grad():\n",
        "    for X_batch, y_batch in test_loader:\n",
        "        X_batch = X_batch.to(device)\n",
        "        preds = model(X_batch)\n",
        "        y_pred.extend(preds.argmax(1).cpu().numpy())\n",
        "        y_true.extend(y_batch.numpy())\n",
        "\n",
        "print(\"\\nClassification Report:\")\n",
        "print(classification_report(y_true, y_pred, target_names=le.classes_))\n",
        "\n",
        "# Calculate and display accuracy\n",
        "from sklearn.metrics import accuracy_score, confusion_matrix\n",
        "import seaborn as sns\n",
        "\n",
        "final_accuracy = accuracy_score(y_true, y_pred)\n",
        "print(f\"\\n{'='*50}\")\n",
        "print(f\"FINAL TEST ACCURACY: {final_accuracy:.2%}\")\n",
        "print(f\"{'='*50}\")\n",
        "\n",
        "# Confusion matrix\n",
        "cm = confusion_matrix(y_true, y_pred)\n",
        "plt.figure(figsize=(10, 8))\n",
        "sns.heatmap(cm, annot=True, fmt='d', cmap='Blues',\n",
        "            xticklabels=le.classes_, yticklabels=le.classes_)\n",
        "plt.title('Confusion Matrix')\n",
        "plt.ylabel('True Label')\n",
        "plt.xlabel('Predicted Label')\n",
        "plt.tight_layout()\n",
        "plt.show()"
      ],
      "metadata": {
        "colab": {
          "base_uri": "https://localhost:8080/",
          "height": 1000
        },
        "id": "qgaOYTsRpw9k",
        "outputId": "3810c535-280f-459f-9c92-743b91c111d6"
      },
      "execution_count": null,
      "outputs": [
        {
          "output_type": "stream",
          "name": "stdout",
          "text": [
            "\n",
            "==================================================\n",
            "FINAL EVALUATION ON TEST SET\n",
            "==================================================\n",
            "\n",
            "Classification Report:\n",
            "              precision    recall  f1-score   support\n",
            "\n",
            "       angry       0.68      0.68      0.68        38\n",
            "        calm       0.63      0.87      0.73        38\n",
            "     disgust       0.71      0.63      0.67        38\n",
            "     fearful       0.60      0.67      0.63        39\n",
            "       happy       0.59      0.49      0.54        39\n",
            "     neutral       0.47      0.47      0.47        19\n",
            "         sad       0.39      0.32      0.35        38\n",
            "   surprised       0.69      0.69      0.69        39\n",
            "\n",
            "    accuracy                           0.61       288\n",
            "   macro avg       0.60      0.60      0.60       288\n",
            "weighted avg       0.61      0.61      0.60       288\n",
            "\n",
            "\n",
            "==================================================\n",
            "FINAL TEST ACCURACY: 61.11%\n",
            "==================================================\n"
          ]
        },
        {
          "output_type": "display_data",
          "data": {
            "text/plain": [
              "<Figure size 1000x800 with 2 Axes>"
            ],
            "image/png": "[encoded data removed]"
          },
          "metadata": {}
        }
      ]
    },
    {
      "cell_type": "code",
      "source": [],
      "metadata": {
        "id": "vd0YVQVVvM4i"
      },
      "execution_count": null,
      "outputs": []
    }
  ]
}